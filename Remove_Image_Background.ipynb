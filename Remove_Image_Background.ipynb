{
 "cells": [
  {
   "cell_type": "code",
   "execution_count": 1,
   "id": "982e89d1",
   "metadata": {},
   "outputs": [],
   "source": [
    "from rembg import remove\n",
    "from PIL import Image"
   ]
  },
  {
   "cell_type": "code",
   "execution_count": 2,
   "id": "aba375fe",
   "metadata": {},
   "outputs": [],
   "source": [
    "input_path='African_Lion.jpg'\n",
    "output_path='African_Lion_BG_Removed.png'"
   ]
  },
  {
   "cell_type": "code",
   "execution_count": 3,
   "id": "80b66313",
   "metadata": {},
   "outputs": [],
   "source": [
    "input=Image.open(input_path)\n",
    "output=remove(input)\n",
    "output.save(output_path)"
   ]
  }
 ],
 "metadata": {
  "kernelspec": {
   "display_name": "Python 3",
   "language": "python",
   "name": "python3"
  },
  "language_info": {
   "codemirror_mode": {
    "name": "ipython",
    "version": 3
   },
   "file_extension": ".py",
   "mimetype": "text/x-python",
   "name": "python",
   "nbconvert_exporter": "python",
   "pygments_lexer": "ipython3",
   "version": "3.8.8"
  }
 },
 "nbformat": 4,
 "nbformat_minor": 5
}
