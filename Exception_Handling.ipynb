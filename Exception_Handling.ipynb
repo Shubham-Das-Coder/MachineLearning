{
 "cells": [
  {
   "cell_type": "code",
   "execution_count": 1,
   "id": "09798007",
   "metadata": {},
   "outputs": [],
   "source": [
    "a=10"
   ]
  },
  {
   "cell_type": "code",
   "execution_count": 2,
   "id": "2bbdc7ee",
   "metadata": {},
   "outputs": [
    {
     "ename": "NameError",
     "evalue": "name 'b' is not defined",
     "output_type": "error",
     "traceback": [
      "\u001b[1;31m---------------------------------------------------------------------------\u001b[0m",
      "\u001b[1;31mNameError\u001b[0m                                 Traceback (most recent call last)",
      "\u001b[1;32m<ipython-input-2-488068fe1e94>\u001b[0m in \u001b[0;36m<module>\u001b[1;34m\u001b[0m\n\u001b[1;32m----> 1\u001b[1;33m \u001b[0ma\u001b[0m\u001b[1;33m=\u001b[0m\u001b[0mb\u001b[0m\u001b[1;33m\u001b[0m\u001b[1;33m\u001b[0m\u001b[0m\n\u001b[0m",
      "\u001b[1;31mNameError\u001b[0m: name 'b' is not defined"
     ]
    }
   ],
   "source": [
    "a=b"
   ]
  },
  {
   "cell_type": "code",
   "execution_count": 3,
   "id": "cb976050",
   "metadata": {},
   "outputs": [
    {
     "name": "stdout",
     "output_type": "stream",
     "text": [
      "Oops!!!Some Problem May Have Occured\n"
     ]
    }
   ],
   "source": [
    "try:\n",
    "    a=b\n",
    "except:\n",
    "    print(\"Oops!!!Some Problem May Have Occured\")"
   ]
  },
  {
   "cell_type": "code",
   "execution_count": 4,
   "id": "e4992002",
   "metadata": {},
   "outputs": [
    {
     "name": "stdout",
     "output_type": "stream",
     "text": [
      "name 'b' is not defined\n"
     ]
    }
   ],
   "source": [
    "try:\n",
    "    a=b\n",
    "except Exception as ex:\n",
    "    print(ex)"
   ]
  },
  {
   "cell_type": "code",
   "execution_count": 5,
   "id": "c749989c",
   "metadata": {},
   "outputs": [
    {
     "ename": "NameError",
     "evalue": "name 'b' is not defined",
     "output_type": "error",
     "traceback": [
      "\u001b[1;31m---------------------------------------------------------------------------\u001b[0m",
      "\u001b[1;31mNameError\u001b[0m                                 Traceback (most recent call last)",
      "\u001b[1;32m<ipython-input-5-488068fe1e94>\u001b[0m in \u001b[0;36m<module>\u001b[1;34m\u001b[0m\n\u001b[1;32m----> 1\u001b[1;33m \u001b[0ma\u001b[0m\u001b[1;33m=\u001b[0m\u001b[0mb\u001b[0m\u001b[1;33m\u001b[0m\u001b[1;33m\u001b[0m\u001b[0m\n\u001b[0m",
      "\u001b[1;31mNameError\u001b[0m: name 'b' is not defined"
     ]
    }
   ],
   "source": [
    "a=b"
   ]
  },
  {
   "cell_type": "code",
   "execution_count": 6,
   "id": "2f2b431b",
   "metadata": {},
   "outputs": [
    {
     "name": "stdout",
     "output_type": "stream",
     "text": [
      "The USER Has Not Defined The Variable\n"
     ]
    }
   ],
   "source": [
    "try:\n",
    "    a=b\n",
    "except NameError as ex1:\n",
    "    print(\"The USER Has Not Defined The Variable\")\n",
    "except Exception as ex:\n",
    "    print(ex)"
   ]
  },
  {
   "cell_type": "code",
   "execution_count": 7,
   "id": "c02012d4",
   "metadata": {},
   "outputs": [
    {
     "name": "stdout",
     "output_type": "stream",
     "text": [
      "unsupported operand type(s) for +: 'int' and 'str'\n"
     ]
    }
   ],
   "source": [
    "try:\n",
    "    a=1\n",
    "    b=\"s\"\n",
    "    c=a+b\n",
    "except NameError as ex1:\n",
    "    print(\"The USER Has Not Defined The Variable\")\n",
    "except Exception as ex:\n",
    "    print(ex)"
   ]
  },
  {
   "cell_type": "code",
   "execution_count": 8,
   "id": "780f7727",
   "metadata": {},
   "outputs": [
    {
     "ename": "TypeError",
     "evalue": "unsupported operand type(s) for +: 'int' and 'str'",
     "output_type": "error",
     "traceback": [
      "\u001b[1;31m---------------------------------------------------------------------------\u001b[0m",
      "\u001b[1;31mTypeError\u001b[0m                                 Traceback (most recent call last)",
      "\u001b[1;32m<ipython-input-8-9b96ead189f1>\u001b[0m in \u001b[0;36m<module>\u001b[1;34m\u001b[0m\n\u001b[0;32m      1\u001b[0m \u001b[0ma\u001b[0m\u001b[1;33m=\u001b[0m\u001b[1;36m1\u001b[0m\u001b[1;33m\u001b[0m\u001b[1;33m\u001b[0m\u001b[0m\n\u001b[0;32m      2\u001b[0m \u001b[0mb\u001b[0m\u001b[1;33m=\u001b[0m\u001b[1;34m\"s\"\u001b[0m\u001b[1;33m\u001b[0m\u001b[1;33m\u001b[0m\u001b[0m\n\u001b[1;32m----> 3\u001b[1;33m \u001b[0mc\u001b[0m\u001b[1;33m=\u001b[0m\u001b[0ma\u001b[0m\u001b[1;33m+\u001b[0m\u001b[0mb\u001b[0m\u001b[1;33m\u001b[0m\u001b[1;33m\u001b[0m\u001b[0m\n\u001b[0m",
      "\u001b[1;31mTypeError\u001b[0m: unsupported operand type(s) for +: 'int' and 'str'"
     ]
    }
   ],
   "source": [
    "a=1\n",
    "b=\"s\"\n",
    "c=a+b"
   ]
  },
  {
   "cell_type": "code",
   "execution_count": 9,
   "id": "5abccca2",
   "metadata": {},
   "outputs": [
    {
     "name": "stdout",
     "output_type": "stream",
     "text": [
      "Try To Make The Datatype Similar\n"
     ]
    }
   ],
   "source": [
    "try:\n",
    "    a=1\n",
    "    b=\"s\"\n",
    "    c=a+b\n",
    "except NameError:\n",
    "    print(\"The USER Has Not Defined The Variable\")\n",
    "except TypeError:\n",
    "    print(\"Try To Make The Datatype Similar\")\n",
    "except Exception as ex:\n",
    "    print(ex)"
   ]
  },
  {
   "cell_type": "code",
   "execution_count": 12,
   "id": "40564993",
   "metadata": {},
   "outputs": [
    {
     "name": "stdout",
     "output_type": "stream",
     "text": [
      "Please Enter The First Number:32\n",
      "Please Enter The Second Number:65\n",
      "97\n",
      "-33\n",
      "2080\n",
      "0.49230769230769234\n"
     ]
    }
   ],
   "source": [
    "try:\n",
    "    a=int(input(\"Please Enter The First Number:\"))\n",
    "    b=int(input(\"Please Enter The Second Number:\"))\n",
    "    c=a+b\n",
    "    d=a-b\n",
    "    e=a*b\n",
    "    f=a/b\n",
    "    print(c)\n",
    "    print(d)\n",
    "    print(e)\n",
    "    print(f)\n",
    "except NameError:\n",
    "    print(\"The USER Has Not Defined The Variable\")\n",
    "except TypeError:\n",
    "    print(\"Try To Make The Datatype Similar\")\n",
    "except Exception as ex:\n",
    "    print(ex)"
   ]
  },
  {
   "cell_type": "code",
   "execution_count": 13,
   "id": "e2367e90",
   "metadata": {},
   "outputs": [
    {
     "name": "stdout",
     "output_type": "stream",
     "text": [
      "Please Enter The First Number:53\n",
      "Please Enter The Second Number:0\n",
      "division by zero\n"
     ]
    }
   ],
   "source": [
    "try:\n",
    "    a=int(input(\"Please Enter The First Number:\"))\n",
    "    b=int(input(\"Please Enter The Second Number:\"))\n",
    "    c=a+b\n",
    "    d=a-b\n",
    "    e=a*b\n",
    "    f=a/b\n",
    "    print(c)\n",
    "    print(d)\n",
    "    print(e)\n",
    "    print(f)\n",
    "except NameError:\n",
    "    print(\"The USER Has Not Defined The Variable\")\n",
    "except TypeError:\n",
    "    print(\"Try To Make The Datatype Similar\")\n",
    "except Exception as ex:\n",
    "    print(ex)"
   ]
  },
  {
   "cell_type": "code",
   "execution_count": 14,
   "id": "fb5f7c0f",
   "metadata": {},
   "outputs": [
    {
     "ename": "ZeroDivisionError",
     "evalue": "division by zero",
     "output_type": "error",
     "traceback": [
      "\u001b[1;31m---------------------------------------------------------------------------\u001b[0m",
      "\u001b[1;31mZeroDivisionError\u001b[0m                         Traceback (most recent call last)",
      "\u001b[1;32m<ipython-input-14-ffe32828b708>\u001b[0m in \u001b[0;36m<module>\u001b[1;34m\u001b[0m\n\u001b[1;32m----> 1\u001b[1;33m \u001b[1;36m65\u001b[0m\u001b[1;33m/\u001b[0m\u001b[1;36m0\u001b[0m\u001b[1;33m\u001b[0m\u001b[1;33m\u001b[0m\u001b[0m\n\u001b[0m",
      "\u001b[1;31mZeroDivisionError\u001b[0m: division by zero"
     ]
    }
   ],
   "source": [
    "65/0"
   ]
  },
  {
   "cell_type": "code",
   "execution_count": 2,
   "id": "3ba60ad6",
   "metadata": {},
   "outputs": [
    {
     "name": "stdout",
     "output_type": "stream",
     "text": [
      "Please Enter The First Number:34\n",
      "Please Enter The Second Number:0\n",
      "Please Provide A Number Other Than Zero\n"
     ]
    }
   ],
   "source": [
    "try:\n",
    "    a=int(input(\"Please Enter The First Number:\"))\n",
    "    b=int(input(\"Please Enter The Second Number:\"))\n",
    "    c=a+b\n",
    "    d=a-b\n",
    "    e=a*b\n",
    "    f=a/b\n",
    "    print(c)\n",
    "    print(d)\n",
    "    print(e)\n",
    "    print(f)\n",
    "except NameError:\n",
    "    print(\"The USER Has Not Defined The Variable\")\n",
    "except ZeroDivisionError:\n",
    "    print(\"Please Provide A Number Other Than Zero\")\n",
    "except TypeError:\n",
    "    print(\"Try To Make The Datatype Similar\")\n",
    "except Exception as ex:\n",
    "    print(ex)"
   ]
  },
  {
   "cell_type": "code",
   "execution_count": 3,
   "id": "679aeaab",
   "metadata": {},
   "outputs": [
    {
     "name": "stdout",
     "output_type": "stream",
     "text": [
      "Please Enter The First Number:53\n",
      "Please Enter The Second Number:13\n",
      "66\n",
      "40\n",
      "689\n",
      "4.076923076923077\n"
     ]
    }
   ],
   "source": [
    "try:\n",
    "    a=int(input(\"Please Enter The First Number:\"))\n",
    "    b=int(input(\"Please Enter The Second Number:\"))\n",
    "    c=a+b\n",
    "    d=a-b\n",
    "    e=a*b\n",
    "    f=a/b\n",
    "except NameError:\n",
    "    print(\"The USER Has Not Defined The Variable\")\n",
    "except ZeroDivisionError:\n",
    "    print(\"Please Provide A Number Other Than Zero\")\n",
    "except TypeError:\n",
    "    print(\"Try To Make The Datatype Similar\")\n",
    "except Exception as ex:\n",
    "    print(ex)\n",
    "else:\n",
    "    print(c)\n",
    "    print(d)\n",
    "    print(e)\n",
    "    print(f)"
   ]
  },
  {
   "cell_type": "code",
   "execution_count": 4,
   "id": "bf662ae6",
   "metadata": {},
   "outputs": [
    {
     "name": "stdout",
     "output_type": "stream",
     "text": [
      "Please Enter The First Number:54\n",
      "Please Enter The Second Number:9\n",
      "63\n",
      "45\n",
      "486\n",
      "6.0\n",
      "The Execution Is Done\n"
     ]
    }
   ],
   "source": [
    "try:\n",
    "    a=int(input(\"Please Enter The First Number:\"))\n",
    "    b=int(input(\"Please Enter The Second Number:\"))\n",
    "    c=a+b\n",
    "    d=a-b\n",
    "    e=a*b\n",
    "    f=a/b\n",
    "except NameError:\n",
    "    print(\"The USER Has Not Defined The Variable\")\n",
    "except ZeroDivisionError:\n",
    "    print(\"Please Provide A Number Other Than Zero\")\n",
    "except TypeError:\n",
    "    print(\"Try To Make The Datatype Similar\")\n",
    "except Exception as ex:\n",
    "    print(ex)\n",
    "else:\n",
    "    print(c)\n",
    "    print(d)\n",
    "    print(e)\n",
    "    print(f)\n",
    "finally:\n",
    "    print(\"The Execution Is Done\")"
   ]
  },
  {
   "cell_type": "code",
   "execution_count": 5,
   "id": "6985c790",
   "metadata": {},
   "outputs": [
    {
     "name": "stdout",
     "output_type": "stream",
     "text": [
      "Please Enter The First Number:43\n",
      "Please Enter The Second Number:0\n",
      "Please Provide A Number Other Than Zero\n",
      "The Execution Is Done\n"
     ]
    }
   ],
   "source": [
    "try:\n",
    "    a=int(input(\"Please Enter The First Number:\"))\n",
    "    b=int(input(\"Please Enter The Second Number:\"))\n",
    "    c=a+b\n",
    "    d=a-b\n",
    "    e=a*b\n",
    "    f=a/b\n",
    "except NameError:\n",
    "    print(\"The USER Has Not Defined The Variable\")\n",
    "except ZeroDivisionError:\n",
    "    print(\"Please Provide A Number Other Than Zero\")\n",
    "except TypeError:\n",
    "    print(\"Try To Make The Datatype Similar\")\n",
    "except Exception as ex:\n",
    "    print(ex)\n",
    "else:\n",
    "    print(c)\n",
    "    print(d)\n",
    "    print(e)\n",
    "    print(f)\n",
    "finally:\n",
    "    print(\"The Execution Is Done\")"
   ]
  },
  {
   "cell_type": "code",
   "execution_count": null,
   "id": "5f127442",
   "metadata": {},
   "outputs": [],
   "source": []
  }
 ],
 "metadata": {
  "kernelspec": {
   "display_name": "Python 3",
   "language": "python",
   "name": "python3"
  },
  "language_info": {
   "codemirror_mode": {
    "name": "ipython",
    "version": 3
   },
   "file_extension": ".py",
   "mimetype": "text/x-python",
   "name": "python",
   "nbconvert_exporter": "python",
   "pygments_lexer": "ipython3",
   "version": "3.8.8"
  }
 },
 "nbformat": 4,
 "nbformat_minor": 5
}
