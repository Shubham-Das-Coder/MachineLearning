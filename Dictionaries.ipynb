{
 "cells": [
  {
   "cell_type": "code",
   "execution_count": 1,
   "id": "63b06e40",
   "metadata": {},
   "outputs": [
    {
     "data": {
      "text/plain": [
       "dict"
      ]
     },
     "execution_count": 1,
     "metadata": {},
     "output_type": "execute_result"
    }
   ],
   "source": [
    "dict={}\n",
    "type(dict)"
   ]
  },
  {
   "cell_type": "code",
   "execution_count": 2,
   "id": "463127e0",
   "metadata": {},
   "outputs": [
    {
     "data": {
      "text/plain": [
       "set"
      ]
     },
     "execution_count": 2,
     "metadata": {},
     "output_type": "execute_result"
    }
   ],
   "source": [
    "dic={1,2,3,4,5,6,7,8,9}\n",
    "type(dic)"
   ]
  },
  {
   "cell_type": "code",
   "execution_count": 5,
   "id": "419d74fd",
   "metadata": {},
   "outputs": [
    {
     "data": {
      "text/plain": [
       "dict"
      ]
     },
     "execution_count": 5,
     "metadata": {},
     "output_type": "execute_result"
    }
   ],
   "source": [
    "mydic={\"Car1\":\"Audi\",\"Car2\":\"Mercedes\",\"Car3\":\"BMW\",\"Car4\":\"Ferrari\",\"Car5\":\"Lamborgini\",\"Car6\":\"Porsche\",\"Car7\":\"Aston Martin\"}\n",
    "type(mydic)"
   ]
  },
  {
   "cell_type": "code",
   "execution_count": 6,
   "id": "5b94c558",
   "metadata": {},
   "outputs": [
    {
     "data": {
      "text/plain": [
       "'Audi'"
      ]
     },
     "execution_count": 6,
     "metadata": {},
     "output_type": "execute_result"
    }
   ],
   "source": [
    "mydic[\"Car1\"]"
   ]
  },
  {
   "cell_type": "code",
   "execution_count": 7,
   "id": "8cca66a8",
   "metadata": {},
   "outputs": [
    {
     "name": "stdout",
     "output_type": "stream",
     "text": [
      "Car1\n",
      "Car2\n",
      "Car3\n",
      "Car4\n",
      "Car5\n",
      "Car6\n",
      "Car7\n"
     ]
    }
   ],
   "source": [
    "for x in mydic:\n",
    "    print(x)"
   ]
  },
  {
   "cell_type": "code",
   "execution_count": 8,
   "id": "a5ff4423",
   "metadata": {},
   "outputs": [
    {
     "name": "stdout",
     "output_type": "stream",
     "text": [
      "Audi\n",
      "Mercedes\n",
      "BMW\n",
      "Ferrari\n",
      "Lamborgini\n",
      "Porsche\n",
      "Aston Martin\n"
     ]
    }
   ],
   "source": [
    "for x in mydic.values():\n",
    "    print(x)"
   ]
  },
  {
   "cell_type": "code",
   "execution_count": 9,
   "id": "73a4dbc3",
   "metadata": {},
   "outputs": [
    {
     "name": "stdout",
     "output_type": "stream",
     "text": [
      "('Car1', 'Audi')\n",
      "('Car2', 'Mercedes')\n",
      "('Car3', 'BMW')\n",
      "('Car4', 'Ferrari')\n",
      "('Car5', 'Lamborgini')\n",
      "('Car6', 'Porsche')\n",
      "('Car7', 'Aston Martin')\n"
     ]
    }
   ],
   "source": [
    "for x in mydic.items():\n",
    "    print(x)"
   ]
  },
  {
   "cell_type": "code",
   "execution_count": 10,
   "id": "c238b928",
   "metadata": {},
   "outputs": [
    {
     "data": {
      "text/plain": [
       "{'Car1': 'Audi',\n",
       " 'Car2': 'Mercedes',\n",
       " 'Car3': 'BMW',\n",
       " 'Car4': 'Ferrari',\n",
       " 'Car5': 'Lamborgini',\n",
       " 'Car6': 'Porsche',\n",
       " 'Car7': 'Aston Martin',\n",
       " 'Car8': 'Rolls Royce'}"
      ]
     },
     "execution_count": 10,
     "metadata": {},
     "output_type": "execute_result"
    }
   ],
   "source": [
    "mydic[\"Car8\"]=\"Rolls Royce\"\n",
    "mydic"
   ]
  },
  {
   "cell_type": "code",
   "execution_count": null,
   "id": "26938c83",
   "metadata": {},
   "outputs": [],
   "source": [
    "mydic"
   ]
  }
 ],
 "metadata": {
  "kernelspec": {
   "display_name": "Python 3",
   "language": "python",
   "name": "python3"
  },
  "language_info": {
   "codemirror_mode": {
    "name": "ipython",
    "version": 3
   },
   "file_extension": ".py",
   "mimetype": "text/x-python",
   "name": "python",
   "nbconvert_exporter": "python",
   "pygments_lexer": "ipython3",
   "version": "3.8.8"
  }
 },
 "nbformat": 4,
 "nbformat_minor": 5
}
