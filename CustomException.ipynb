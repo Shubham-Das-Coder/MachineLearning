{
 "cells": [
  {
   "cell_type": "code",
   "execution_count": 1,
   "id": "93ac0051",
   "metadata": {},
   "outputs": [],
   "source": [
    "class Error(Exception):\n",
    "    pass\n",
    "class dobException(Error):\n",
    "    pass"
   ]
  },
  {
   "cell_type": "code",
   "execution_count": 4,
   "id": "8488ff48",
   "metadata": {},
   "outputs": [
    {
     "name": "stdout",
     "output_type": "stream",
     "text": [
      "Please Enter The Year Of Birth:1991\n",
      "Congratulations!!!You Can Apply For The Exam\n"
     ]
    }
   ],
   "source": [
    "year=int(input(\"Please Enter The Year Of Birth:\"))\n",
    "age=2021-year\n",
    "try:\n",
    "    if age<=30 & age>=20:\n",
    "        print(\"Congratulations!!!You Can Apply For The Exam\")\n",
    "    else:\n",
    "        raise dobException\n",
    "except dobException:\n",
    "    print(\"Your Age Is Not Valid.You Cannot Apply For The Exam\")"
   ]
  },
  {
   "cell_type": "code",
   "execution_count": 5,
   "id": "eb636e0b",
   "metadata": {},
   "outputs": [
    {
     "name": "stdout",
     "output_type": "stream",
     "text": [
      "Please Enter The Year Of Birth:2002\n",
      "Your Age Is Not Valid.You Cannot Apply For The Exam\n"
     ]
    }
   ],
   "source": [
    "year=int(input(\"Please Enter The Year Of Birth:\"))\n",
    "age=2021-year\n",
    "try:\n",
    "    if age<=30 & age>=20:\n",
    "        print(\"Congratulations!!!You Can Apply For The Exam\")\n",
    "    else:\n",
    "        raise dobException\n",
    "except dobException:\n",
    "    print(\"Your Age Is Not Valid.You Cannot Apply For The Exam\")"
   ]
  },
  {
   "cell_type": "code",
   "execution_count": null,
   "id": "f6d5d5b7",
   "metadata": {},
   "outputs": [],
   "source": []
  }
 ],
 "metadata": {
  "kernelspec": {
   "display_name": "Python 3",
   "language": "python",
   "name": "python3"
  },
  "language_info": {
   "codemirror_mode": {
    "name": "ipython",
    "version": 3
   },
   "file_extension": ".py",
   "mimetype": "text/x-python",
   "name": "python",
   "nbconvert_exporter": "python",
   "pygments_lexer": "ipython3",
   "version": "3.8.8"
  }
 },
 "nbformat": 4,
 "nbformat_minor": 5
}
