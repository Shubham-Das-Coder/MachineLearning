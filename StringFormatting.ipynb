{
 "cells": [
  {
   "cell_type": "code",
   "execution_count": 1,
   "id": "87f92b73",
   "metadata": {},
   "outputs": [
    {
     "name": "stdout",
     "output_type": "stream",
     "text": [
      "Hello\n"
     ]
    }
   ],
   "source": [
    "print(\"Hello\")"
   ]
  },
  {
   "cell_type": "code",
   "execution_count": 2,
   "id": "045f728f",
   "metadata": {},
   "outputs": [],
   "source": [
    "str=\"Hello\""
   ]
  },
  {
   "cell_type": "code",
   "execution_count": 3,
   "id": "750dc822",
   "metadata": {},
   "outputs": [
    {
     "name": "stdout",
     "output_type": "stream",
     "text": [
      "Hello\n"
     ]
    }
   ],
   "source": [
    "print(str)"
   ]
  },
  {
   "cell_type": "code",
   "execution_count": 11,
   "id": "204b826e",
   "metadata": {},
   "outputs": [],
   "source": [
    "def greeting(name):\n",
    "    return \"Hello {}.Welcome\".format(name) "
   ]
  },
  {
   "cell_type": "code",
   "execution_count": 12,
   "id": "e8fa643e",
   "metadata": {},
   "outputs": [
    {
     "data": {
      "text/plain": [
       "'Hello Shubham.Welcome'"
      ]
     },
     "execution_count": 12,
     "metadata": {},
     "output_type": "execute_result"
    }
   ],
   "source": [
    "greeting(\"Shubham\")"
   ]
  },
  {
   "cell_type": "code",
   "execution_count": 15,
   "id": "130c7d9a",
   "metadata": {},
   "outputs": [],
   "source": [
    "def welcome_email(name,age):\n",
    "    return \"Welcome {}. Your Age Is {}\".format(name,age)"
   ]
  },
  {
   "cell_type": "code",
   "execution_count": 16,
   "id": "d3ba4050",
   "metadata": {},
   "outputs": [
    {
     "data": {
      "text/plain": [
       "'Welcome Shubham. Your Age Is 18'"
      ]
     },
     "execution_count": 16,
     "metadata": {},
     "output_type": "execute_result"
    }
   ],
   "source": [
    "welcome_email('Shubham',18)"
   ]
  },
  {
   "cell_type": "code",
   "execution_count": 17,
   "id": "b6611757",
   "metadata": {},
   "outputs": [],
   "source": [
    "def welcome_email(name,age):\n",
    "    return \"Welcome {name}. Your Age Is {age}\".format(name=name,age=age)"
   ]
  },
  {
   "cell_type": "code",
   "execution_count": 18,
   "id": "68122be5",
   "metadata": {},
   "outputs": [
    {
     "data": {
      "text/plain": [
       "'Welcome Shubham. Your Age Is 18'"
      ]
     },
     "execution_count": 18,
     "metadata": {},
     "output_type": "execute_result"
    }
   ],
   "source": [
    "welcome_email(\"Shubham\",18)"
   ]
  },
  {
   "cell_type": "code",
   "execution_count": 19,
   "id": "4a1e1f4c",
   "metadata": {},
   "outputs": [],
   "source": [
    "def welcome_email(name,age):\n",
    "    return \"Welcome {name}. Your Age Is {age}\".format(name=age,age=name)"
   ]
  },
  {
   "cell_type": "code",
   "execution_count": 20,
   "id": "56501cee",
   "metadata": {},
   "outputs": [
    {
     "data": {
      "text/plain": [
       "'Welcome 18. Your Age Is Shubham'"
      ]
     },
     "execution_count": 20,
     "metadata": {},
     "output_type": "execute_result"
    }
   ],
   "source": [
    "welcome_email(\"Shubham\",18)"
   ]
  },
  {
   "cell_type": "code",
   "execution_count": 23,
   "id": "c601052c",
   "metadata": {},
   "outputs": [],
   "source": [
    "def welcome_email(name,age):\n",
    "    return \"Welcome {name1}. Your Age Is {age1}\".format(name1=name,age1=age)"
   ]
  },
  {
   "cell_type": "code",
   "execution_count": 24,
   "id": "86d46bfb",
   "metadata": {},
   "outputs": [
    {
     "data": {
      "text/plain": [
       "'Welcome Shubham. Your Age Is 18'"
      ]
     },
     "execution_count": 24,
     "metadata": {},
     "output_type": "execute_result"
    }
   ],
   "source": [
    "welcome_email(\"Shubham\",18)"
   ]
  },
  {
   "cell_type": "code",
   "execution_count": null,
   "id": "5acbf7fa",
   "metadata": {},
   "outputs": [],
   "source": []
  }
 ],
 "metadata": {
  "kernelspec": {
   "display_name": "Python 3",
   "language": "python",
   "name": "python3"
  },
  "language_info": {
   "codemirror_mode": {
    "name": "ipython",
    "version": 3
   },
   "file_extension": ".py",
   "mimetype": "text/x-python",
   "name": "python",
   "nbconvert_exporter": "python",
   "pygments_lexer": "ipython3",
   "version": "3.8.8"
  }
 },
 "nbformat": 4,
 "nbformat_minor": 5
}
