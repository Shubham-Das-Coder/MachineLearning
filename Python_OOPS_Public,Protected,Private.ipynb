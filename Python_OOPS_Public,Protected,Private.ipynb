{
 "cells": [
  {
   "cell_type": "code",
   "execution_count": 8,
   "id": "4b7e231a",
   "metadata": {},
   "outputs": [],
   "source": [
    "##All THE CLASS VARIABLES ARE PUBLIC\n",
    "class Car():\n",
    "    def __init__(self,windows,doors,enginetype):\n",
    "        self.windows=windows\n",
    "        self.doors=doors\n",
    "        self.enginetype=enginetype"
   ]
  },
  {
   "cell_type": "code",
   "execution_count": 9,
   "id": "32458090",
   "metadata": {},
   "outputs": [],
   "source": [
    "ferrari=Car(4,4,\"diesel\")"
   ]
  },
  {
   "cell_type": "code",
   "execution_count": 10,
   "id": "271ee3ff",
   "metadata": {},
   "outputs": [
    {
     "data": {
      "text/plain": [
       "<__main__.Car at 0x1bab9719d90>"
      ]
     },
     "execution_count": 10,
     "metadata": {},
     "output_type": "execute_result"
    }
   ],
   "source": [
    "ferrari"
   ]
  },
  {
   "cell_type": "code",
   "execution_count": 11,
   "id": "717a9c84",
   "metadata": {},
   "outputs": [],
   "source": [
    "##ALL THE VARIABLES ARE PROTECTED\n",
    "class Car():\n",
    "    def __init__(self,windows,doors,enginetype):\n",
    "        self._windows=windows\n",
    "        self._doors=doors\n",
    "        self._enginetype=enginetype"
   ]
  },
  {
   "cell_type": "code",
   "execution_count": 12,
   "id": "45f45cba",
   "metadata": {},
   "outputs": [
    {
     "data": {
      "text/plain": [
       "['__class__',\n",
       " '__delattr__',\n",
       " '__dict__',\n",
       " '__dir__',\n",
       " '__doc__',\n",
       " '__eq__',\n",
       " '__format__',\n",
       " '__ge__',\n",
       " '__getattribute__',\n",
       " '__gt__',\n",
       " '__hash__',\n",
       " '__init__',\n",
       " '__init_subclass__',\n",
       " '__le__',\n",
       " '__lt__',\n",
       " '__module__',\n",
       " '__ne__',\n",
       " '__new__',\n",
       " '__reduce__',\n",
       " '__reduce_ex__',\n",
       " '__repr__',\n",
       " '__setattr__',\n",
       " '__sizeof__',\n",
       " '__str__',\n",
       " '__subclasshook__',\n",
       " '__weakref__',\n",
       " 'doors',\n",
       " 'enginetype',\n",
       " 'windows']"
      ]
     },
     "execution_count": 12,
     "metadata": {},
     "output_type": "execute_result"
    }
   ],
   "source": [
    "dir(ferrari)"
   ]
  },
  {
   "cell_type": "code",
   "execution_count": 13,
   "id": "b0b7d359",
   "metadata": {},
   "outputs": [],
   "source": [
    "ferrari=Car(4,4,\"petrol\")"
   ]
  },
  {
   "cell_type": "code",
   "execution_count": 14,
   "id": "a38803c1",
   "metadata": {},
   "outputs": [
    {
     "data": {
      "text/plain": [
       "['__class__',\n",
       " '__delattr__',\n",
       " '__dict__',\n",
       " '__dir__',\n",
       " '__doc__',\n",
       " '__eq__',\n",
       " '__format__',\n",
       " '__ge__',\n",
       " '__getattribute__',\n",
       " '__gt__',\n",
       " '__hash__',\n",
       " '__init__',\n",
       " '__init_subclass__',\n",
       " '__le__',\n",
       " '__lt__',\n",
       " '__module__',\n",
       " '__ne__',\n",
       " '__new__',\n",
       " '__reduce__',\n",
       " '__reduce_ex__',\n",
       " '__repr__',\n",
       " '__setattr__',\n",
       " '__sizeof__',\n",
       " '__str__',\n",
       " '__subclasshook__',\n",
       " '__weakref__',\n",
       " '_doors',\n",
       " '_enginetype',\n",
       " '_windows']"
      ]
     },
     "execution_count": 14,
     "metadata": {},
     "output_type": "execute_result"
    }
   ],
   "source": [
    "dir(ferrari)"
   ]
  },
  {
   "cell_type": "code",
   "execution_count": 15,
   "id": "6ce03f01",
   "metadata": {},
   "outputs": [],
   "source": [
    "ferrari.windows=5"
   ]
  },
  {
   "cell_type": "code",
   "execution_count": 17,
   "id": "755f12a3",
   "metadata": {},
   "outputs": [
    {
     "data": {
      "text/plain": [
       "5"
      ]
     },
     "execution_count": 17,
     "metadata": {},
     "output_type": "execute_result"
    }
   ],
   "source": [
    "ferrari.windows"
   ]
  },
  {
   "cell_type": "code",
   "execution_count": 21,
   "id": "2dd3b28c",
   "metadata": {},
   "outputs": [],
   "source": [
    "class Truck(Car):\n",
    "    def __init__(self,windows,doors,enginetype,horsepower):\n",
    "        super().__init__(windows,doors,enginetype)\n",
    "        self.horsepower=horsepower"
   ]
  },
  {
   "cell_type": "code",
   "execution_count": 22,
   "id": "02e12189",
   "metadata": {},
   "outputs": [
    {
     "data": {
      "text/plain": [
       "['__class__',\n",
       " '__delattr__',\n",
       " '__dict__',\n",
       " '__dir__',\n",
       " '__doc__',\n",
       " '__eq__',\n",
       " '__format__',\n",
       " '__ge__',\n",
       " '__getattribute__',\n",
       " '__gt__',\n",
       " '__hash__',\n",
       " '__init__',\n",
       " '__init_subclass__',\n",
       " '__le__',\n",
       " '__lt__',\n",
       " '__module__',\n",
       " '__ne__',\n",
       " '__new__',\n",
       " '__reduce__',\n",
       " '__reduce_ex__',\n",
       " '__repr__',\n",
       " '__setattr__',\n",
       " '__sizeof__',\n",
       " '__str__',\n",
       " '__subclasshook__',\n",
       " '__weakref__',\n",
       " '_doors',\n",
       " '_enginetype',\n",
       " '_windows',\n",
       " 'horsepower']"
      ]
     },
     "execution_count": 22,
     "metadata": {},
     "output_type": "execute_result"
    }
   ],
   "source": [
    "truck=Truck(4,4,\"diesel\",2000)\n",
    "dir(truck)"
   ]
  },
  {
   "cell_type": "code",
   "execution_count": 23,
   "id": "f6a43ce2",
   "metadata": {},
   "outputs": [],
   "source": [
    "truck._doors=5"
   ]
  },
  {
   "cell_type": "code",
   "execution_count": 24,
   "id": "a91e3350",
   "metadata": {},
   "outputs": [
    {
     "data": {
      "text/plain": [
       "5"
      ]
     },
     "execution_count": 24,
     "metadata": {},
     "output_type": "execute_result"
    }
   ],
   "source": [
    "truck._doors"
   ]
  },
  {
   "cell_type": "code",
   "execution_count": 25,
   "id": "a7dc1149",
   "metadata": {},
   "outputs": [],
   "source": [
    "##PRIVATE\n",
    "class Car():\n",
    "    def __init__(self,windows,doors,enginetype):\n",
    "        self.__windows=windows\n",
    "        self.__doors=doors\n",
    "        self.__enginetype=enginetype"
   ]
  },
  {
   "cell_type": "code",
   "execution_count": 26,
   "id": "0e0a17ab",
   "metadata": {},
   "outputs": [],
   "source": [
    "bmw=Car(4,4,\"petrol\")"
   ]
  },
  {
   "cell_type": "code",
   "execution_count": 27,
   "id": "1da9e03f",
   "metadata": {},
   "outputs": [
    {
     "data": {
      "text/plain": [
       "['_Car__doors',\n",
       " '_Car__enginetype',\n",
       " '_Car__windows',\n",
       " '__class__',\n",
       " '__delattr__',\n",
       " '__dict__',\n",
       " '__dir__',\n",
       " '__doc__',\n",
       " '__eq__',\n",
       " '__format__',\n",
       " '__ge__',\n",
       " '__getattribute__',\n",
       " '__gt__',\n",
       " '__hash__',\n",
       " '__init__',\n",
       " '__init_subclass__',\n",
       " '__le__',\n",
       " '__lt__',\n",
       " '__module__',\n",
       " '__ne__',\n",
       " '__new__',\n",
       " '__reduce__',\n",
       " '__reduce_ex__',\n",
       " '__repr__',\n",
       " '__setattr__',\n",
       " '__sizeof__',\n",
       " '__str__',\n",
       " '__subclasshook__',\n",
       " '__weakref__']"
      ]
     },
     "execution_count": 27,
     "metadata": {},
     "output_type": "execute_result"
    }
   ],
   "source": [
    "dir(bmw)"
   ]
  },
  {
   "cell_type": "code",
   "execution_count": 28,
   "id": "13dc5fed",
   "metadata": {},
   "outputs": [],
   "source": [
    "bmw=Car(5,5,\"diesel\")"
   ]
  },
  {
   "cell_type": "code",
   "execution_count": 29,
   "id": "f2bbd5b6",
   "metadata": {},
   "outputs": [],
   "source": [
    "bmw._Car__doors=5"
   ]
  },
  {
   "cell_type": "code",
   "execution_count": 30,
   "id": "c3bd388f",
   "metadata": {},
   "outputs": [
    {
     "data": {
      "text/plain": [
       "5"
      ]
     },
     "execution_count": 30,
     "metadata": {},
     "output_type": "execute_result"
    }
   ],
   "source": [
    "bmw._Car__doors"
   ]
  },
  {
   "cell_type": "code",
   "execution_count": 31,
   "id": "9c6117db",
   "metadata": {},
   "outputs": [
    {
     "data": {
      "text/plain": [
       "['_Car__doors',\n",
       " '_Car__enginetype',\n",
       " '_Car__windows',\n",
       " '__class__',\n",
       " '__delattr__',\n",
       " '__dict__',\n",
       " '__dir__',\n",
       " '__doc__',\n",
       " '__eq__',\n",
       " '__format__',\n",
       " '__ge__',\n",
       " '__getattribute__',\n",
       " '__gt__',\n",
       " '__hash__',\n",
       " '__init__',\n",
       " '__init_subclass__',\n",
       " '__le__',\n",
       " '__lt__',\n",
       " '__module__',\n",
       " '__ne__',\n",
       " '__new__',\n",
       " '__reduce__',\n",
       " '__reduce_ex__',\n",
       " '__repr__',\n",
       " '__setattr__',\n",
       " '__sizeof__',\n",
       " '__str__',\n",
       " '__subclasshook__',\n",
       " '__weakref__']"
      ]
     },
     "execution_count": 31,
     "metadata": {},
     "output_type": "execute_result"
    }
   ],
   "source": [
    "dir(bmw)"
   ]
  },
  {
   "cell_type": "code",
   "execution_count": null,
   "id": "2caed651",
   "metadata": {},
   "outputs": [],
   "source": []
  }
 ],
 "metadata": {
  "kernelspec": {
   "display_name": "Python 3",
   "language": "python",
   "name": "python3"
  },
  "language_info": {
   "codemirror_mode": {
    "name": "ipython",
    "version": 3
   },
   "file_extension": ".py",
   "mimetype": "text/x-python",
   "name": "python",
   "nbconvert_exporter": "python",
   "pygments_lexer": "ipython3",
   "version": "3.8.8"
  }
 },
 "nbformat": 4,
 "nbformat_minor": 5
}
