{
 "cells": [
  {
   "cell_type": "code",
   "execution_count": 1,
   "id": "e2ab6cb4",
   "metadata": {},
   "outputs": [
    {
     "name": "stdout",
     "output_type": "stream",
     "text": [
      "{'Car1': {'Bugatti': 1909}, 'Car2': {'Rolls Royce': 1906}, 'Car3': {'Rolls Royce': 1906}}\n"
     ]
    }
   ],
   "source": [
    "car1_model={\"Bugatti\":1909}\n",
    "car2_model={\"Rolls Royce\":1906}\n",
    "car3_model={\"Porsche\":1931}\n",
    "car={\"Car1\":car1_model,\"Car2\":car2_model,\"Car3\":car2_model}\n",
    "print(car)"
   ]
  },
  {
   "cell_type": "code",
   "execution_count": 2,
   "id": "5a28bd1f",
   "metadata": {},
   "outputs": [
    {
     "name": "stdout",
     "output_type": "stream",
     "text": [
      "{'Bugatti': 1909}\n"
     ]
    }
   ],
   "source": [
    "print(car[\"Car1\"])\n"
   ]
  },
  {
   "cell_type": "code",
   "execution_count": null,
   "id": "0ecf18ab",
   "metadata": {},
   "outputs": [],
   "source": []
  }
 ],
 "metadata": {
  "kernelspec": {
   "display_name": "Python 3",
   "language": "python",
   "name": "python3"
  },
  "language_info": {
   "codemirror_mode": {
    "name": "ipython",
    "version": 3
   },
   "file_extension": ".py",
   "mimetype": "text/x-python",
   "name": "python",
   "nbconvert_exporter": "python",
   "pygments_lexer": "ipython3",
   "version": "3.8.8"
  }
 },
 "nbformat": 4,
 "nbformat_minor": 5
}
