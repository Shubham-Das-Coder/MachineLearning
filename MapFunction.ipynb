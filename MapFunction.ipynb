{
 "cells": [
  {
   "cell_type": "code",
   "execution_count": 3,
   "id": "056331ff",
   "metadata": {},
   "outputs": [],
   "source": [
    "def odd_or_even(num):\n",
    "    if num%2==0:\n",
    "        return \"{} Is Even\".format(num)\n",
    "    else:\n",
    "        return \"{} Is Odd\".format(num)"
   ]
  },
  {
   "cell_type": "code",
   "execution_count": 4,
   "id": "2d7f1539",
   "metadata": {},
   "outputs": [
    {
     "data": {
      "text/plain": [
       "'564 Is Even'"
      ]
     },
     "execution_count": 4,
     "metadata": {},
     "output_type": "execute_result"
    }
   ],
   "source": [
    "odd_or_even(564)"
   ]
  },
  {
   "cell_type": "code",
   "execution_count": 6,
   "id": "4de2330f",
   "metadata": {},
   "outputs": [],
   "source": [
    "lst=[54,24,76,63,23,95,45,21,65,27,87]"
   ]
  },
  {
   "cell_type": "code",
   "execution_count": 7,
   "id": "e734b988",
   "metadata": {},
   "outputs": [
    {
     "data": {
      "text/plain": [
       "<map at 0x174f5ba3f40>"
      ]
     },
     "execution_count": 7,
     "metadata": {},
     "output_type": "execute_result"
    }
   ],
   "source": [
    "map(odd_or_even,lst)"
   ]
  },
  {
   "cell_type": "code",
   "execution_count": 8,
   "id": "da3b2e0c",
   "metadata": {},
   "outputs": [
    {
     "data": {
      "text/plain": [
       "['54 Is Even',\n",
       " '24 Is Even',\n",
       " '76 Is Even',\n",
       " '63 Is Odd',\n",
       " '23 Is Odd',\n",
       " '95 Is Odd',\n",
       " '45 Is Odd',\n",
       " '21 Is Odd',\n",
       " '65 Is Odd',\n",
       " '27 Is Odd',\n",
       " '87 Is Odd']"
      ]
     },
     "execution_count": 8,
     "metadata": {},
     "output_type": "execute_result"
    }
   ],
   "source": [
    "list(map(odd_or_even,lst))"
   ]
  },
  {
   "cell_type": "code",
   "execution_count": null,
   "id": "2f33d5a6",
   "metadata": {},
   "outputs": [],
   "source": []
  }
 ],
 "metadata": {
  "kernelspec": {
   "display_name": "Python 3",
   "language": "python",
   "name": "python3"
  },
  "language_info": {
   "codemirror_mode": {
    "name": "ipython",
    "version": 3
   },
   "file_extension": ".py",
   "mimetype": "text/x-python",
   "name": "python",
   "nbconvert_exporter": "python",
   "pygments_lexer": "ipython3",
   "version": "3.8.8"
  }
 },
 "nbformat": 4,
 "nbformat_minor": 5
}
